{
 "cells": [
  {
   "cell_type": "code",
   "execution_count": 1,
   "metadata": {},
   "outputs": [],
   "source": [
    "import numpy as np\n",
    "from scipy.io import loadmat, savemat\n",
    "import matplotlib.pyplot as plt\n",
    "from pprint import pprint\n",
    "import itertools\n",
    "\n",
    "import cp\n",
    "import base\n",
    "from parafac2 import parafac2_als\n",
    "import parafac2\n",
    "import utils\n",
    "import metrics\n",
    "\n",
    "%matplotlib notebook\n",
    "np.random.seed(1)"
   ]
  },
  {
   "cell_type": "code",
   "execution_count": 2,
   "metadata": {},
   "outputs": [],
   "source": [
    "ndims = [30]*10 # 30,20,10\n",
    "m = 20\n",
    "true_rank = 2\n",
    "\n",
    "true_P_k, true_F, true_A, true_D_k = parafac2.create_parafac2_components(ndims, m, true_rank)\n",
    "true_C = np.diagonal(true_D_k)"
   ]
  },
  {
   "cell_type": "code",
   "execution_count": 3,
   "metadata": {},
   "outputs": [
    {
     "name": "stdout",
     "output_type": "stream",
     "text": [
      "[[1. 0.]\n",
      " [0. 1.]]\n",
      "[[ 1. -0.]\n",
      " [-0.  1.]]\n",
      "[[1. 0.]\n",
      " [0. 1.]]\n",
      "[[1. 0.]\n",
      " [0. 1.]]\n",
      "[[1. 0.]\n",
      " [0. 1.]]\n",
      "[[ 1. -0.]\n",
      " [-0.  1.]]\n",
      "[[1. 0.]\n",
      " [0. 1.]]\n",
      "[[ 1. -0.]\n",
      " [-0.  1.]]\n",
      "[[1. 0.]\n",
      " [0. 1.]]\n",
      "[[ 1. -0.]\n",
      " [-0.  1.]]\n"
     ]
    }
   ],
   "source": [
    "with np.printoptions(precision=3, suppress=True):\n",
    "    for p in true_P_k:\n",
    "        print(p.T @ p)"
   ]
  },
  {
   "cell_type": "code",
   "execution_count": 4,
   "metadata": {},
   "outputs": [],
   "source": [
    "X = parafac2.compose_from_parafac2_factors(true_P_k, true_F, true_A, true_D_k)"
   ]
  },
  {
   "cell_type": "code",
   "execution_count": 5,
   "metadata": {},
   "outputs": [],
   "source": [
    "savemat('/home/marie/Dropbox/Programming/Simula/Parafac2/parafac2_generated_data.mat', \n",
    "        {'X': X, 'true_P_k': true_P_k, 'true_A': true_A, 'true_F': \n",
    "         true_F, 'true_C': true_C, 'true_rank': true_rank})"
   ]
  },
  {
   "cell_type": "code",
   "execution_count": 6,
   "metadata": {},
   "outputs": [
    {
     "name": "stdout",
     "output_type": "stream",
     "text": [
      "   0: loss is 1.78, improvement is 0.88\n",
      "   1: loss is 0.72, improvement is 0.60\n",
      "   2: loss is 0.74, improvement is -0.03\n",
      "   3: loss is 0.74, improvement is -0.00\n",
      "   4: loss is 0.76, improvement is -0.03\n",
      "   5: loss is 0.80, improvement is -0.05\n",
      "   6: loss is 0.77, improvement is 0.04\n",
      "   7: loss is 0.62, improvement is 0.19\n",
      "   8: loss is 0.46, improvement is 0.26\n",
      "   9: loss is 0.33, improvement is 0.28\n",
      "  10: loss is 0.24, improvement is 0.29\n",
      "  11: loss is 0.17, improvement is 0.27\n",
      "  12: loss is 0.13, improvement is 0.26\n",
      "  13: loss is 0.09, improvement is 0.25\n",
      "  14: loss is 0.07, improvement is 0.23\n",
      "  15: loss is 0.06, improvement is 0.21\n",
      "  16: loss is 0.05, improvement is 0.19\n",
      "  17: loss is 0.04, improvement is 0.16\n",
      "  18: loss is 0.03, improvement is 0.13\n",
      "  19: loss is 0.03, improvement is 0.09\n",
      "  20: loss is 0.03, improvement is 0.07\n",
      "  21: loss is 0.03, improvement is 0.04\n",
      "  22: loss is 0.03, improvement is 0.03\n",
      "  23: loss is 0.03, improvement is 0.02\n",
      "  24: loss is 0.03, improvement is 0.02\n",
      "  25: loss is 0.03, improvement is 0.02\n",
      "  26: loss is 0.02, improvement is 0.03\n",
      "  27: loss is 0.02, improvement is 0.04\n",
      "  28: loss is 0.02, improvement is 0.05\n",
      "  29: loss is 0.02, improvement is 0.05\n",
      "  30: loss is 0.02, improvement is 0.06\n",
      "  31: loss is 0.02, improvement is 0.07\n",
      "  32: loss is 0.02, improvement is 0.07\n",
      "  33: loss is 0.02, improvement is 0.08\n",
      "  34: loss is 0.01, improvement is 0.08\n",
      "  35: loss is 0.01, improvement is 0.08\n",
      "  36: loss is 0.01, improvement is 0.08\n",
      "  37: loss is 0.01, improvement is 0.08\n",
      "  38: loss is 0.01, improvement is 0.07\n",
      "  39: loss is 0.01, improvement is 0.07\n",
      "  40: loss is 0.01, improvement is 0.06\n",
      "  41: loss is 0.01, improvement is 0.05\n",
      "  42: loss is 0.01, improvement is 0.05\n",
      "  43: loss is 0.01, improvement is 0.04\n",
      "  44: loss is 0.01, improvement is 0.03\n",
      "  45: loss is 0.01, improvement is 0.02\n",
      "  46: loss is 0.01, improvement is 0.01\n",
      "  47: loss is 0.01, improvement is 0.01\n",
      "  48: loss is 0.01, improvement is -0.00\n",
      "  49: loss is 0.01, improvement is -0.01\n",
      "  50: loss is 0.01, improvement is -0.01\n",
      "  51: loss is 0.01, improvement is -0.02\n",
      "  52: loss is 0.01, improvement is -0.02\n",
      "  53: loss is 0.01, improvement is -0.02\n",
      "  54: loss is 0.01, improvement is -0.02\n",
      "  55: loss is 0.01, improvement is -0.02\n",
      "  56: loss is 0.01, improvement is -0.02\n",
      "  57: loss is 0.01, improvement is -0.02\n",
      "  58: loss is 0.01, improvement is -0.02\n",
      "  59: loss is 0.01, improvement is -0.02\n",
      "  60: loss is 0.01, improvement is -0.02\n",
      "  61: loss is 0.01, improvement is -0.02\n",
      "  62: loss is 0.01, improvement is -0.02\n",
      "  63: loss is 0.01, improvement is -0.02\n",
      "  64: loss is 0.01, improvement is -0.02\n",
      "  65: loss is 0.01, improvement is -0.02\n",
      "  66: loss is 0.01, improvement is -0.02\n",
      "  67: loss is 0.01, improvement is -0.02\n",
      "  68: loss is 0.01, improvement is -0.02\n",
      "  69: loss is 0.01, improvement is -0.02\n",
      "  70: loss is 0.01, improvement is -0.01\n",
      "  71: loss is 0.01, improvement is -0.01\n",
      "  72: loss is 0.01, improvement is -0.01\n",
      "  73: loss is 0.01, improvement is -0.01\n",
      "  74: loss is 0.01, improvement is -0.01\n",
      "  75: loss is 0.01, improvement is -0.01\n",
      "  76: loss is 0.01, improvement is -0.01\n",
      "  77: loss is 0.01, improvement is -0.01\n",
      "  78: loss is 0.01, improvement is -0.01\n",
      "  79: loss is 0.01, improvement is -0.01\n",
      "  80: loss is 0.01, improvement is -0.01\n",
      "  81: loss is 0.01, improvement is -0.01\n",
      "  82: loss is 0.01, improvement is -0.01\n",
      "  83: loss is 0.01, improvement is -0.01\n",
      "  84: loss is 0.01, improvement is -0.01\n",
      "  85: loss is 0.01, improvement is -0.01\n",
      "  86: loss is 0.01, improvement is -0.01\n",
      "  87: loss is 0.01, improvement is -0.01\n",
      "  88: loss is 0.01, improvement is -0.01\n",
      "  89: loss is 0.01, improvement is -0.00\n",
      "  90: loss is 0.01, improvement is -0.00\n",
      "  91: loss is 0.01, improvement is -0.00\n",
      "  92: loss is 0.01, improvement is -0.00\n",
      "  93: loss is 0.01, improvement is -0.00\n",
      "  94: loss is 0.01, improvement is -0.00\n",
      "  95: loss is 0.01, improvement is -0.00\n",
      "  96: loss is 0.01, improvement is -0.00\n",
      "  97: loss is 0.01, improvement is -0.00\n",
      "  98: loss is 0.01, improvement is -0.00\n",
      "  99: loss is 0.01, improvement is -0.00\n",
      " 100: loss is 0.01, improvement is -0.00\n",
      " 101: loss is 0.01, improvement is -0.00\n",
      " 102: loss is 0.01, improvement is -0.00\n",
      " 103: loss is 0.01, improvement is -0.00\n",
      " 104: loss is 0.01, improvement is -0.00\n",
      " 105: loss is 0.01, improvement is -0.00\n",
      " 106: loss is 0.01, improvement is -0.00\n",
      " 107: loss is 0.01, improvement is -0.00\n",
      " 108: loss is 0.01, improvement is -0.00\n",
      " 109: loss is 0.01, improvement is -0.00\n",
      " 110: loss is 0.01, improvement is -0.00\n",
      " 111: loss is 0.01, improvement is -0.00\n",
      " 112: loss is 0.01, improvement is -0.00\n",
      " 113: loss is 0.01, improvement is -0.00\n",
      " 114: loss is 0.01, improvement is -0.00\n",
      " 115: loss is 0.01, improvement is -0.00\n",
      " 116: loss is 0.01, improvement is -0.00\n",
      " 117: loss is 0.01, improvement is -0.00\n",
      " 118: loss is 0.01, improvement is -0.00\n",
      " 119: loss is 0.01, improvement is -0.00\n",
      " 120: loss is 0.01, improvement is -0.00\n",
      " 121: loss is 0.01, improvement is -0.00\n",
      " 122: loss is 0.01, improvement is -0.00\n",
      " 123: loss is 0.01, improvement is -0.00\n",
      " 124: loss is 0.01, improvement is -0.00\n",
      " 125: loss is 0.01, improvement is -0.00\n",
      " 126: loss is 0.01, improvement is -0.00\n",
      " 127: loss is 0.01, improvement is -0.00\n",
      " 128: loss is 0.01, improvement is -0.00\n",
      " 129: loss is 0.01, improvement is -0.00\n",
      " 130: loss is 0.01, improvement is -0.00\n",
      " 131: loss is 0.01, improvement is -0.00\n",
      " 132: loss is 0.01, improvement is -0.00\n",
      " 133: loss is 0.01, improvement is -0.00\n",
      " 134: loss is 0.01, improvement is -0.00\n",
      " 135: loss is 0.01, improvement is -0.00\n",
      " 136: loss is 0.01, improvement is -0.00\n",
      " 137: loss is 0.01, improvement is -0.00\n",
      " 138: loss is 0.01, improvement is -0.00\n",
      " 139: loss is 0.01, improvement is -0.00\n",
      " 140: loss is 0.01, improvement is -0.00\n",
      " 141: loss is 0.01, improvement is -0.00\n",
      " 142: loss is 0.01, improvement is -0.00\n",
      " 143: loss is 0.01, improvement is -0.00\n",
      " 144: loss is 0.01, improvement is -0.00\n",
      " 145: loss is 0.01, improvement is -0.00\n",
      " 146: loss is 0.01, improvement is -0.00\n",
      " 147: loss is 0.01, improvement is -0.00\n",
      " 148: loss is 0.01, improvement is -0.00\n",
      " 149: loss is 0.01, improvement is -0.00\n",
      " 150: loss is 0.01, improvement is -0.00\n",
      " 151: loss is 0.01, improvement is -0.00\n",
      " 152: loss is 0.01, improvement is -0.00\n",
      " 153: loss is 0.01, improvement is -0.00\n",
      " 154: loss is 0.01, improvement is -0.00\n",
      " 155: loss is 0.01, improvement is -0.00\n",
      " 156: loss is 0.01, improvement is -0.00\n",
      " 157: loss is 0.01, improvement is -0.00\n",
      " 158: loss is 0.01, improvement is -0.00\n",
      " 159: loss is 0.01, improvement is -0.00\n",
      " 160: loss is 0.01, improvement is -0.00\n",
      " 161: loss is 0.01, improvement is -0.00\n",
      " 162: loss is 0.01, improvement is -0.00\n",
      " 163: loss is 0.01, improvement is -0.00\n",
      " 164: loss is 0.01, improvement is -0.00\n",
      " 165: loss is 0.01, improvement is -0.00\n",
      " 166: loss is 0.01, improvement is -0.00\n",
      " 167: loss is 0.01, improvement is -0.00\n",
      " 168: loss is 0.01, improvement is -0.00\n",
      " 169: loss is 0.01, improvement is -0.00\n",
      " 170: loss is 0.01, improvement is -0.00\n",
      " 171: loss is 0.01, improvement is -0.00\n",
      " 172: loss is 0.01, improvement is -0.00\n",
      " 173: loss is 0.01, improvement is -0.00\n",
      " 174: loss is 0.01, improvement is -0.00\n",
      " 175: loss is 0.01, improvement is -0.00\n",
      " 176: loss is 0.01, improvement is -0.00\n",
      " 177: loss is 0.01, improvement is -0.00\n",
      " 178: loss is 0.01, improvement is -0.00\n",
      " 179: loss is 0.01, improvement is -0.00\n",
      " 180: loss is 0.01, improvement is -0.00\n",
      " 181: loss is 0.01, improvement is -0.00\n",
      " 182: loss is 0.01, improvement is -0.00\n",
      " 183: loss is 0.01, improvement is -0.00\n",
      " 184: loss is 0.01, improvement is -0.00\n",
      " 185: loss is 0.01, improvement is -0.00\n",
      " 186: loss is 0.01, improvement is -0.00\n",
      " 187: loss is 0.01, improvement is -0.00\n",
      " 188: loss is 0.01, improvement is -0.00\n",
      " 189: loss is 0.01, improvement is -0.00\n",
      " 190: loss is 0.01, improvement is -0.00\n"
     ]
    }
   ],
   "source": [
    "P_k, F, A, D_k = parafac2_als(X, true_rank, convergence_th= 1e-5)\n",
    "C = np.diagonal(D_k)"
   ]
  },
  {
   "cell_type": "code",
   "execution_count": 7,
   "metadata": {},
   "outputs": [],
   "source": [
    "pred_X = parafac2.compose_from_parafac2_factors(P_k, F, A, D_k)"
   ]
  },
  {
   "cell_type": "code",
   "execution_count": 8,
   "metadata": {},
   "outputs": [
    {
     "name": "stdout",
     "output_type": "stream",
     "text": [
      "SSE/||X||^2 Python:  0.007353210010733382\n"
     ]
    }
   ],
   "source": [
    "sse = 0\n",
    "ss = 0\n",
    "for px, tx in zip(pred_X, X):\n",
    "    sse += np.linalg.norm(px-tx, 'fro')**2\n",
    "    \n",
    "    ss += np.linalg.norm(tx, 'fro')**2\n",
    "print('SSE/||X||^2 Python: ', sse/ss)"
   ]
  },
  {
   "cell_type": "markdown",
   "metadata": {},
   "source": [
    "## Get MATLAB results using same data"
   ]
  },
  {
   "cell_type": "code",
   "execution_count": 9,
   "metadata": {},
   "outputs": [],
   "source": [
    "matlab_results = loadmat('generated_data_matlab_result.mat')"
   ]
  },
  {
   "cell_type": "code",
   "execution_count": 10,
   "metadata": {},
   "outputs": [],
   "source": [
    "matlab_X_pred = [matlab_results['Xpred'][0, k].astype(float) for k in range(matlab_results['Xpred'].shape[-1])]\n",
    "matlab_X = [matlab_results['XX'][0, k] for k in range(matlab_results['XX'].shape[-1])]\n",
    "\n",
    "matlab_F = matlab_results['H']\n",
    "matlab_P_k = [pk.astype(float) for pk in matlab_results['P'].squeeze()]\n",
    "matlab_C = matlab_results['C']\n",
    "matlab_A = matlab_results['A']"
   ]
  },
  {
   "cell_type": "code",
   "execution_count": 11,
   "metadata": {},
   "outputs": [
    {
     "name": "stdout",
     "output_type": "stream",
     "text": [
      "SSE/||X||^2 MATLAB:  0.0007439193894546478\n"
     ]
    }
   ],
   "source": [
    "sse = 0\n",
    "ss = 0\n",
    "for px, tx in zip(matlab_X_pred, matlab_X):\n",
    "    sse += np.linalg.norm(px-tx, 'fro')**2\n",
    "    \n",
    "    ss += np.linalg.norm(tx, 'fro')**2\n",
    "print('SSE/||X||^2 MATLAB: ', sse/ss)"
   ]
  },
  {
   "cell_type": "code",
   "execution_count": 12,
   "metadata": {},
   "outputs": [
    {
     "data": {
      "text/plain": [
       "(0.21719739712960626, (1, 0))"
      ]
     },
     "execution_count": 12,
     "metadata": {},
     "output_type": "execute_result"
    }
   ],
   "source": [
    "metrics.factor_match_score([true_A, true_C], [matlab_A, matlab_C], weight_penalty=False)"
   ]
  },
  {
   "cell_type": "markdown",
   "metadata": {},
   "source": [
    "## Factor match score between true factors and python/matlab estimates one mode at a time"
   ]
  },
  {
   "cell_type": "code",
   "execution_count": 13,
   "metadata": {},
   "outputs": [],
   "source": [
    "weight_penalty = False"
   ]
  },
  {
   "cell_type": "code",
   "execution_count": 14,
   "metadata": {},
   "outputs": [
    {
     "name": "stdout",
     "output_type": "stream",
     "text": [
      "FMS for factor A - Python: 0.9980, MATLAB: 0.9983\n",
      "FMS for factor C - Python: 0.2168, MATLAB: 0.2176\n"
     ]
    }
   ],
   "source": [
    "fms_A_python, _ = metrics.factor_match_score([true_A], [A], weight_penalty=weight_penalty)\n",
    "fms_A_matlab, _ = metrics.factor_match_score([true_A], [matlab_A], weight_penalty=weight_penalty)\n",
    "print(f'FMS for factor A - Python: {fms_A_python:5.4f}, MATLAB: {fms_A_matlab:5.4f}')\n",
    "\n",
    "\n",
    "fms_C_python, _ = metrics.factor_match_score([true_C], [C], weight_penalty=weight_penalty)\n",
    "fms_C_matlab, _ = metrics.factor_match_score([true_C], [matlab_C], weight_penalty=weight_penalty)\n",
    "print(f'FMS for factor C - Python: {fms_C_python:5.4f}, MATLAB: {fms_C_matlab:5.4f}')"
   ]
  },
  {
   "cell_type": "code",
   "execution_count": 15,
   "metadata": {},
   "outputs": [
    {
     "name": "stdout",
     "output_type": "stream",
     "text": [
      "Factor match score for F_k slice by slice:\n",
      "\n",
      "F_0 - Python: 0.9991, MATLAB: 0.9986\n",
      "F_1 - Python: 0.9361, MATLAB: 0.9396\n",
      "F_2 - Python: 0.9457, MATLAB: 0.9480\n",
      "F_3 - Python: 0.9998, MATLAB: 0.9996\n",
      "F_4 - Python: 0.9366, MATLAB: 0.9390\n",
      "F_5 - Python: 0.9992, MATLAB: 0.9990\n",
      "F_6 - Python: 0.9616, MATLAB: 0.9647\n",
      "F_7 - Python: 0.9616, MATLAB: 0.9624\n",
      "F_8 - Python: 0.9996, MATLAB: 0.9995\n",
      "F_9 - Python: 0.9994, MATLAB: 0.9991\n"
     ]
    }
   ],
   "source": [
    "print(f'Factor match score for F_k slice by slice:\\n')\n",
    "for k in range(len(P_k)):\n",
    "    true_F_k = true_P_k[k] @ true_F\n",
    "    F_k = P_k[k] @ F\n",
    "    fms_python,_ = metrics.factor_match_score([true_F_k], [F_k], weight_penalty=weight_penalty)\n",
    "    \n",
    "    \n",
    "    matlab_F_k = matlab_P_k[k] @ matlab_F\n",
    "    fms_matlab,_ = metrics.factor_match_score([true_F_k], [matlab_F_k], weight_penalty=weight_penalty)\n",
    "    print(f'F_{k} - Python: {fms_python:5.4f}, MATLAB: {fms_matlab:5.4f}')"
   ]
  },
  {
   "cell_type": "markdown",
   "metadata": {},
   "source": [
    "## Factor match score between python and matlab estimates one mode at a time"
   ]
  },
  {
   "cell_type": "code",
   "execution_count": 16,
   "metadata": {},
   "outputs": [
    {
     "name": "stdout",
     "output_type": "stream",
     "text": [
      "FMS between python and matlab decomposition for factor A: 1.0000\n",
      "FMS between python and matlab decomposition for factor C: 1.0000\n"
     ]
    }
   ],
   "source": [
    "fms_A, _ = metrics.factor_match_score([A], [matlab_A], weight_penalty=weight_penalty)\n",
    "print(f'FMS between python and matlab decomposition for factor A: {fms_A:5.4f}')\n",
    "\n",
    "fms_C, _ = metrics.factor_match_score([C], [matlab_C], weight_penalty=weight_penalty)\n",
    "print(f'FMS between python and matlab decomposition for factor C: {fms_C:5.4f}')"
   ]
  },
  {
   "cell_type": "code",
   "execution_count": 17,
   "metadata": {},
   "outputs": [
    {
     "name": "stdout",
     "output_type": "stream",
     "text": [
      "FMS between python and matlab estimate of F_k slice by slice:\n",
      "\n",
      "F_0 - 0.9999\n",
      "F_1 - 0.9999\n",
      "F_2 - 1.0000\n",
      "F_3 - 1.0000\n",
      "F_4 - 1.0000\n",
      "F_5 - 1.0000\n",
      "F_6 - 0.9999\n",
      "F_7 - 1.0000\n",
      "F_8 - 1.0000\n",
      "F_9 - 1.0000\n"
     ]
    }
   ],
   "source": [
    "print(f'FMS between python and matlab estimate of F_k slice by slice:\\n')\n",
    "for k in range(len(P_k)):\n",
    "    F_k = P_k[k] @ F  \n",
    "    \n",
    "    matlab_F_k = matlab_P_k[k] @ matlab_F\n",
    "    fms_F_k,_ = metrics.factor_match_score([F_k], [matlab_F_k], weight_penalty=weight_penalty)\n",
    "    print(f'F_{k} - {fms_F_k:5.4f}')"
   ]
  },
  {
   "cell_type": "code",
   "execution_count": 19,
   "metadata": {},
   "outputs": [
    {
     "data": {
      "text/plain": [
       "[<matplotlib.lines.Line2D at 0x7f12f96e6208>,\n",
       " <matplotlib.lines.Line2D at 0x7f12f96e6358>]"
      ]
     },
     "execution_count": 19,
     "metadata": {},
     "output_type": "execute_result"
    },
    {
     "data": {
      "image/png": "[encoded data removed]",
      "text/plain": [
       "<Figure size 432x288 with 2 Axes>"
      ]
     },
     "metadata": {},
     "output_type": "display_data"
    }
   ],
   "source": [
    "plt.subplot(121)\n",
    "plt.plot(C)\n",
    "plt.subplot(122)\n",
    "plt.plot(true_C)"
   ]
  },
  {
   "cell_type": "code",
   "execution_count": null,
   "metadata": {},
   "outputs": [],
   "source": []
  },
  {
   "cell_type": "code",
   "execution_count": null,
   "metadata": {},
   "outputs": [],
   "source": []
  },
  {
   "cell_type": "code",
   "execution_count": null,
   "metadata": {},
   "outputs": [],
   "source": []
  }
 ],
 "metadata": {
  "kernelspec": {
   "display_name": "Python 3",
   "language": "python",
   "name": "python3"
  },
  "language_info": {
   "codemirror_mode": {
    "name": "ipython",
    "version": 3
   },
   "file_extension": ".py",
   "mimetype": "text/x-python",
   "name": "python",
   "nbconvert_exporter": "python",
   "pygments_lexer": "ipython3",
   "version": "3.6.5"
  }
 },
 "nbformat": 4,
 "nbformat_minor": 2
}
